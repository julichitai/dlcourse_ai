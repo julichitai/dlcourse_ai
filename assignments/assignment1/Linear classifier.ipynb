{
 "cells": [
  {
   "cell_type": "markdown",
   "metadata": {},
   "source": [
    "# Задание 1.2 - Линейный классификатор (Linear classifier)\n",
    "\n",
    "В этом задании мы реализуем другую модель машинного обучения - линейный классификатор. Линейный классификатор подбирает для каждого класса веса, на которые нужно умножить значение каждого признака и потом сложить вместе.\n",
    "Тот класс, у которого эта сумма больше, и является предсказанием модели.\n",
    "\n",
    "В этом задании вы:\n",
    "- потренируетесь считать градиенты различных многомерных функций\n",
    "- реализуете подсчет градиентов через линейную модель и функцию потерь softmax\n",
    "- реализуете процесс тренировки линейного классификатора\n",
    "- подберете параметры тренировки на практике\n",
    "\n",
    "На всякий случай, еще раз ссылка на туториал по numpy:  \n",
    "http://cs231n.github.io/python-numpy-tutorial/"
   ]
  },
  {
   "cell_type": "code",
   "execution_count": 1,
   "metadata": {},
   "outputs": [],
   "source": [
    "import numpy as np\n",
    "import matplotlib.pyplot as plt\n",
    "\n",
    "%matplotlib inline\n",
    "\n",
    "%load_ext autoreload\n",
    "%autoreload 2"
   ]
  },
  {
   "cell_type": "code",
   "execution_count": null,
   "metadata": {},
   "outputs": [],
   "source": [
    "from dataset import load_svhn, random_split_train_val\n",
    "from gradient_check import check_gradient\n",
    "from metrics import multiclass_accuracy \n",
    "import linear_classifer"
   ]
  },
  {
   "cell_type": "markdown",
   "metadata": {},
   "source": [
    "# Как всегда, первым делом загружаем данные\n",
    "\n",
    "Мы будем использовать все тот же SVHN."
   ]
  },
  {
   "cell_type": "code",
   "execution_count": null,
   "metadata": {},
   "outputs": [],
   "source": [
    "def prepare_for_linear_classifier(train_X, test_X):\n",
    "    train_flat = train_X.reshape(train_X.shape[0], -1).astype(np.float) / 255.0\n",
    "    test_flat = test_X.reshape(test_X.shape[0], -1).astype(np.float) / 255.0\n",
    "    \n",
    "    # Subtract mean\n",
    "    mean_image = np.mean(train_flat, axis = 0)\n",
    "    train_flat -= mean_image\n",
    "    test_flat -= mean_image\n",
    "    \n",
    "    # Add another channel with ones as a bias term\n",
    "    train_flat_with_ones = np.hstack([train_flat, np.ones((train_X.shape[0], 1))])\n",
    "    test_flat_with_ones = np.hstack([test_flat, np.ones((test_X.shape[0], 1))])    \n",
    "    return train_flat_with_ones, test_flat_with_ones\n",
    "    \n",
    "train_X, train_y, test_X, test_y = load_svhn(\"data\", max_train=10000, max_test=1000)    \n",
    "train_X, test_X = prepare_for_linear_classifier(train_X, test_X)\n",
    "# Split train into train and val\n",
    "train_X, train_y, val_X, val_y = random_split_train_val(train_X, train_y, num_val = 1000)"
   ]
  },
  {
   "cell_type": "markdown",
   "metadata": {},
   "source": [
    "# Играемся с градиентами!\n",
    "\n",
    "В этом курсе мы будем писать много функций, которые вычисляют градиенты аналитическим методом.\n",
    "\n",
    "Все функции, в которых мы будем вычислять градиенты, будут написаны по одной и той же схеме.  \n",
    "Они будут получать на вход точку, где нужно вычислить значение и градиент функции, а на выходе будут выдавать кортеж (tuple) из двух значений - собственно значения функции в этой точке (всегда одно число) и аналитического значения градиента в той же точке (той же размерности, что и вход).\n",
    "```\n",
    "def f(x):\n",
    "    \"\"\"\n",
    "    Computes function and analytic gradient at x\n",
    "    \n",
    "    x: np array of float, input to the function\n",
    "    \n",
    "    Returns:\n",
    "    value: float, value of the function \n",
    "    grad: np array of float, same shape as x\n",
    "    \"\"\"\n",
    "    ...\n",
    "    \n",
    "    return value, grad\n",
    "```\n",
    "\n",
    "Необходимым инструментом во время реализации кода, вычисляющего градиенты, является функция его проверки. Эта функция вычисляет градиент численным методом и сверяет результат с градиентом, вычисленным аналитическим методом.\n",
    "\n",
    "Мы начнем с того, чтобы реализовать вычисление численного градиента (numeric gradient) в функции `check_gradient` в `gradient_check.py`. Эта функция будет принимать на вход функции формата, заданного выше, использовать значение `value` для вычисления численного градиента и сравнит его с аналитическим - они должны сходиться.\n",
    "\n",
    "Напишите часть функции, которая вычисляет градиент с помощью численной производной для каждой координаты. Для вычисления производной используйте так называемую two-point formula (https://en.wikipedia.org/wiki/Numerical_differentiation):\n",
    "\n",
    "![image](https://wikimedia.org/api/rest_v1/media/math/render/svg/22fc2c0a66c63560a349604f8b6b39221566236d)\n",
    "\n",
    "Все функции приведенные в следующей клетке должны проходить gradient check."
   ]
  },
  {
   "cell_type": "code",
   "execution_count": null,
   "metadata": {
    "scrolled": true
   },
   "outputs": [],
   "source": [
    "# TODO: Implement check_gradient function in gradient_check.py\n",
    "# All the functions below should pass the gradient check\n",
    "\n",
    "def square(x):\n",
    "    return float(x*x), 2*x\n",
    "\n",
    "check_gradient(square, np.array([3.0]))\n",
    "\n",
    "def array_sum(x):\n",
    "    assert x.shape == (2,), x.shape\n",
    "    return np.sum(x), np.ones_like(x)\n",
    "\n",
    "check_gradient(array_sum, np.array([3.0, 2.0]))\n",
    "\n",
    "def array_2d_sum(x):\n",
    "    assert x.shape == (2,2)\n",
    "    return np.sum(x), np.ones_like(x)\n",
    "\n",
    "check_gradient(array_2d_sum, np.array([[3.0, 2.0], [1.0, 0.0]]))"
   ]
  },
  {
   "cell_type": "markdown",
   "metadata": {},
   "source": [
    "## Начинаем писать свои функции, считающие аналитический градиент\n",
    "\n",
    "Теперь реализуем функцию softmax, которая получает на вход оценки для каждого класса и преобразует их в вероятности от 0 до 1:\n",
    "![image](https://wikimedia.org/api/rest_v1/media/math/render/svg/e348290cf48ddbb6e9a6ef4e39363568b67c09d3)\n",
    "\n",
    "**Важно:** Практический аспект вычисления этой функции заключается в том, что в ней учавствует вычисление экспоненты от потенциально очень больших чисел - это может привести к очень большим значениям в числителе и знаменателе за пределами диапазона float.\n",
    "\n",
    "К счастью, у этой проблемы есть простое решение -- перед вычислением softmax вычесть из всех оценок максимальное значение среди всех оценок:\n",
    "```\n",
    "predictions -= np.max(predictions)\n",
    "```\n",
    "(подробнее здесь - http://cs231n.github.io/linear-classify/#softmax, секция `Practical issues: Numeric stability`)"
   ]
  },
  {
   "cell_type": "code",
   "execution_count": null,
   "metadata": {},
   "outputs": [],
   "source": [
    "# TODO Implement softmax and cross-entropy for single sample\n",
    "probs = linear_classifer.softmax(np.array([-10, 0, 10]))\n",
    "\n",
    "# Make sure it works for big numbers too!\n",
    "probs = linear_classifer.softmax(np.array([1000, 0, 0]))\n",
    "assert np.isclose(probs[0], 1.0)"
   ]
  },
  {
   "cell_type": "markdown",
   "metadata": {},
   "source": [
    "Кроме этого, мы реализуем cross-entropy loss, которую мы будем использовать как функцию ошибки (error function).\n",
    "В общем виде cross-entropy определена следующим образом:\n",
    "![image](https://wikimedia.org/api/rest_v1/media/math/render/svg/0cb6da032ab424eefdca0884cd4113fe578f4293)\n",
    "\n",
    "где x - все классы, p(x) - истинная вероятность принадлежности сэмпла классу x, а q(x) - вероятность принадлежности классу x, предсказанная моделью.  \n",
    "В нашем случае сэмпл принадлежит только одному классу, индекс которого передается функции. Для него p(x) равна 1, а для остальных классов - 0. \n",
    "\n",
    "Это позволяет реализовать функцию проще!"
   ]
  },
  {
   "cell_type": "code",
   "execution_count": null,
   "metadata": {},
   "outputs": [],
   "source": [
    "probs = linear_classifer.softmax(np.array([-5, 0, 5]))\n",
    "linear_classifer.cross_entropy_loss(probs, 1)"
   ]
  },
  {
   "cell_type": "markdown",
   "metadata": {},
   "source": [
    "После того как мы реализовали сами функции, мы можем реализовать градиент.\n",
    "\n",
    "Оказывается, что вычисление градиента становится гораздо проще, если объединить эти функции в одну, которая сначала вычисляет вероятности через softmax, а потом использует их для вычисления функции ошибки через cross-entropy loss.\n",
    "\n",
    "Эта функция `softmax_with_cross_entropy` будет возвращает и значение ошибки, и градиент по входным параметрам. Мы проверим корректность реализации с помощью `check_gradient`."
   ]
  },
  {
   "cell_type": "code",
   "execution_count": null,
   "metadata": {},
   "outputs": [],
   "source": [
    "# TODO Implement combined function or softmax and cross entropy and produces gradient\n",
    "loss, grad = linear_classifer.softmax_with_cross_entropy(np.array([1, 0, 0]), 1)\n",
    "print(loss, grad)\n",
    "check_gradient(lambda x: linear_classifer.softmax_with_cross_entropy(x, 1), np.array([1, 0, 0], np.float))"
   ]
  },
  {
   "cell_type": "markdown",
   "metadata": {},
   "source": [
    "В качестве метода тренировки мы будем использовать стохастический градиентный спуск (stochastic gradient descent или SGD), который работает с батчами сэмплов. \n",
    "\n",
    "Поэтому все наши фукнции будут получать не один пример, а батч, то есть входом будет не вектор из `num_classes` оценок, а матрица размерности `batch_size, num_classes`. Индекс примера в батче всегда будет первым измерением.\n",
    "\n",
    "Следующий шаг - переписать наши функции так, чтобы они поддерживали батчи.\n",
    "\n",
    "Финальное значение функции ошибки должно остаться числом, и оно равно среднему значению ошибки среди всех примеров в батче."
   ]
  },
  {
   "cell_type": "code",
   "execution_count": null,
   "metadata": {},
   "outputs": [],
   "source": [
    "# TODO Extend combined function so it can receive a 2d array with batch of samples\n",
    "np.random.seed(42)\n",
    "# Test batch_size = 1\n",
    "num_classes = 4\n",
    "batch_size = 1\n",
    "predictions = np.random.randint(-1, 3, size=(batch_size, num_classes)).astype(np.float)\n",
    "target_index = np.random.randint(0, num_classes, size=(batch_size, 1)).astype(np.int)\n",
    "check_gradient(lambda x: linear_classifer.softmax_with_cross_entropy(x, target_index), predictions)\n",
    "\n",
    "# Test batch_size = 3\n",
    "num_classes = 4\n",
    "batch_size = 3\n",
    "predictions = np.random.randint(-1, 3, size=(batch_size, num_classes)).astype(np.float)\n",
    "target_index = np.random.randint(0, num_classes, size=(batch_size, 1)).astype(np.int)\n",
    "check_gradient(lambda x: linear_classifer.softmax_with_cross_entropy(x, target_index), predictions)\n",
    "\n",
    "# Make sure maximum subtraction for numberic stability is done separately for every sample in the batch\n",
    "probs = linear_classifer.softmax(np.array([[20,0,0], [1000, 0, 0]]))\n",
    "assert np.all(np.isclose(probs[:, 0], 1.0))"
   ]
  },
  {
   "cell_type": "markdown",
   "metadata": {},
   "source": [
    "### Наконец, реализуем сам линейный классификатор!\n",
    "\n",
    "softmax и cross-entropy получают на вход оценки, которые выдает линейный классификатор.\n",
    "\n",
    "Он делает это очень просто: для каждого класса есть набор весов, на которые надо умножить пиксели картинки и сложить. Получившееся число и является оценкой класса, идущей на вход softmax.\n",
    "\n",
    "Таким образом, линейный классификатор можно представить как умножение вектора с пикселями на матрицу W размера `num_features, num_classes`. Такой подход легко расширяется на случай батча векторов с пикселями X размера `batch_size, num_features`:\n",
    "\n",
    "`predictions = X * W`, где `*` - матричное умножение.\n",
    "\n",
    "Реализуйте функцию подсчета линейного классификатора и градиентов по весам `linear_softmax` в файле `linear_classifer.py`"
   ]
  },
  {
   "cell_type": "code",
   "execution_count": null,
   "metadata": {},
   "outputs": [],
   "source": [
    "# TODO Implement linear_softmax function that uses softmax with cross-entropy for linear classifier\n",
    "batch_size = 2\n",
    "num_classes = 2\n",
    "num_features = 3\n",
    "np.random.seed(42)\n",
    "W = np.random.randint(-1, 3, size=(num_features, num_classes)).astype(np.float)\n",
    "X = np.random.randint(-1, 3, size=(batch_size, num_features)).astype(np.float)\n",
    "target_index = np.ones(batch_size, dtype=np.int)\n",
    "\n",
    "loss, dW = linear_classifer.linear_softmax(X, W, target_index)\n",
    "check_gradient(lambda w: linear_classifer.linear_softmax(X, w, target_index), W)"
   ]
  },
  {
   "cell_type": "markdown",
   "metadata": {},
   "source": [
    "### И теперь регуляризация\n",
    "\n",
    "Мы будем использовать L2 regularization для весов как часть общей функции ошибки.\n",
    "\n",
    "Напомним, L2 regularization определяется как\n",
    "\n",
    "l2_reg_loss = regularization_strength * sum<sub>ij</sub> W[i, j]<sup>2</sup>\n",
    "\n",
    "Реализуйте функцию для его вычисления и вычисления соотвествующих градиентов."
   ]
  },
  {
   "cell_type": "code",
   "execution_count": 10,
   "metadata": {},
   "outputs": [
    {
     "name": "stdout",
     "output_type": "stream",
     "text": [
      "Gradient check passed!\n"
     ]
    },
    {
     "data": {
      "text/plain": [
       "True"
      ]
     },
     "execution_count": 10,
     "metadata": {},
     "output_type": "execute_result"
    }
   ],
   "source": [
    "# TODO Implement l2_regularization function that implements loss for L2 regularization\n",
    "linear_classifer.l2_regularization(W, 0.01)\n",
    "check_gradient(lambda w: linear_classifer.l2_regularization(w, 0.01), W)"
   ]
  },
  {
   "cell_type": "markdown",
   "metadata": {},
   "source": [
    "# Тренировка!"
   ]
  },
  {
   "cell_type": "markdown",
   "metadata": {},
   "source": [
    "Градиенты в порядке, реализуем процесс тренировки!"
   ]
  },
  {
   "cell_type": "code",
   "execution_count": 11,
   "metadata": {},
   "outputs": [
    {
     "name": "stdout",
     "output_type": "stream",
     "text": [
      "Epoch 0, loss: 2.397363\n",
      "Epoch 1, loss: 2.330354\n",
      "Epoch 2, loss: 2.311002\n",
      "Epoch 3, loss: 2.303897\n",
      "Epoch 4, loss: 2.303257\n",
      "Epoch 5, loss: 2.302898\n",
      "Epoch 6, loss: 2.302564\n",
      "Epoch 7, loss: 2.301815\n",
      "Epoch 8, loss: 2.301252\n",
      "Epoch 9, loss: 2.301256\n"
     ]
    }
   ],
   "source": [
    "# TODO: Implement LinearSoftmaxClassifier.fit function\n",
    "classifier = linear_classifer.LinearSoftmaxClassifier()\n",
    "loss_history = classifier.fit(train_X, train_y, epochs=10, learning_rate=1e-3, batch_size=300, reg=1e1)"
   ]
  },
  {
   "cell_type": "code",
   "execution_count": 12,
   "metadata": {},
   "outputs": [
    {
     "data": {
      "text/plain": [
       "[<matplotlib.lines.Line2D at 0x7f74374700f0>]"
      ]
     },
     "execution_count": 12,
     "metadata": {},
     "output_type": "execute_result"
    },
    {
     "data": {
      "image/png": "[encoded data removed]",
      "text/plain": [
       "<Figure size 432x288 with 1 Axes>"
      ]
     },
     "metadata": {
      "needs_background": "light"
     },
     "output_type": "display_data"
    }
   ],
   "source": [
    "# let's look at the loss history!\n",
    "plt.plot(loss_history)"
   ]
  },
  {
   "cell_type": "code",
   "execution_count": 13,
   "metadata": {
    "scrolled": true
   },
   "outputs": [
    {
     "name": "stdout",
     "output_type": "stream",
     "text": [
      "Accuracy:  0.127\n",
      "Epoch 0, loss: 2.301800\n",
      "Epoch 1, loss: 2.302558\n",
      "Epoch 2, loss: 2.302208\n",
      "Epoch 3, loss: 2.303309\n",
      "Epoch 4, loss: 2.302126\n",
      "Epoch 5, loss: 2.301524\n",
      "Epoch 6, loss: 2.301150\n",
      "Epoch 7, loss: 2.301359\n",
      "Epoch 8, loss: 2.302305\n",
      "Epoch 9, loss: 2.302205\n",
      "Epoch 10, loss: 2.301595\n",
      "Epoch 11, loss: 2.302039\n",
      "Epoch 12, loss: 2.301247\n",
      "Epoch 13, loss: 2.301836\n",
      "Epoch 14, loss: 2.302396\n",
      "Epoch 15, loss: 2.302299\n",
      "Epoch 16, loss: 2.301161\n",
      "Epoch 17, loss: 2.302058\n",
      "Epoch 18, loss: 2.302180\n",
      "Epoch 19, loss: 2.302339\n",
      "Epoch 20, loss: 2.302694\n",
      "Epoch 21, loss: 2.301872\n",
      "Epoch 22, loss: 2.302261\n",
      "Epoch 23, loss: 2.302209\n",
      "Epoch 24, loss: 2.302215\n",
      "Epoch 25, loss: 2.301591\n",
      "Epoch 26, loss: 2.301535\n",
      "Epoch 27, loss: 2.302557\n",
      "Epoch 28, loss: 2.301689\n",
      "Epoch 29, loss: 2.301815\n",
      "Epoch 30, loss: 2.301483\n",
      "Epoch 31, loss: 2.301553\n",
      "Epoch 32, loss: 2.301640\n",
      "Epoch 33, loss: 2.301991\n",
      "Epoch 34, loss: 2.302104\n",
      "Epoch 35, loss: 2.301741\n",
      "Epoch 36, loss: 2.302652\n",
      "Epoch 37, loss: 2.303017\n",
      "Epoch 38, loss: 2.301521\n",
      "Epoch 39, loss: 2.301504\n",
      "Epoch 40, loss: 2.301565\n",
      "Epoch 41, loss: 2.302361\n",
      "Epoch 42, loss: 2.302223\n",
      "Epoch 43, loss: 2.302385\n",
      "Epoch 44, loss: 2.302532\n",
      "Epoch 45, loss: 2.301950\n",
      "Epoch 46, loss: 2.301686\n",
      "Epoch 47, loss: 2.301881\n",
      "Epoch 48, loss: 2.302291\n",
      "Epoch 49, loss: 2.302069\n",
      "Epoch 50, loss: 2.301971\n",
      "Epoch 51, loss: 2.302533\n",
      "Epoch 52, loss: 2.302043\n",
      "Epoch 53, loss: 2.302003\n",
      "Epoch 54, loss: 2.301729\n",
      "Epoch 55, loss: 2.301272\n",
      "Epoch 56, loss: 2.302220\n",
      "Epoch 57, loss: 2.301765\n",
      "Epoch 58, loss: 2.301959\n",
      "Epoch 59, loss: 2.302229\n",
      "Epoch 60, loss: 2.301372\n",
      "Epoch 61, loss: 2.302540\n",
      "Epoch 62, loss: 2.301929\n",
      "Epoch 63, loss: 2.301502\n",
      "Epoch 64, loss: 2.302201\n",
      "Epoch 65, loss: 2.302674\n",
      "Epoch 66, loss: 2.302191\n",
      "Epoch 67, loss: 2.302989\n",
      "Epoch 68, loss: 2.301388\n",
      "Epoch 69, loss: 2.301621\n",
      "Epoch 70, loss: 2.301533\n",
      "Epoch 71, loss: 2.302804\n",
      "Epoch 72, loss: 2.301514\n",
      "Epoch 73, loss: 2.300962\n",
      "Epoch 74, loss: 2.302366\n",
      "Epoch 75, loss: 2.301895\n",
      "Epoch 76, loss: 2.301768\n",
      "Epoch 77, loss: 2.302649\n",
      "Epoch 78, loss: 2.302394\n",
      "Epoch 79, loss: 2.301415\n",
      "Epoch 80, loss: 2.302148\n",
      "Epoch 81, loss: 2.302263\n",
      "Epoch 82, loss: 2.301172\n",
      "Epoch 83, loss: 2.302803\n",
      "Epoch 84, loss: 2.301892\n",
      "Epoch 85, loss: 2.302788\n",
      "Epoch 86, loss: 2.302016\n",
      "Epoch 87, loss: 2.302450\n",
      "Epoch 88, loss: 2.302002\n",
      "Epoch 89, loss: 2.302363\n",
      "Epoch 90, loss: 2.301257\n",
      "Epoch 91, loss: 2.302553\n",
      "Epoch 92, loss: 2.301951\n",
      "Epoch 93, loss: 2.300910\n",
      "Epoch 94, loss: 2.302318\n",
      "Epoch 95, loss: 2.301563\n",
      "Epoch 96, loss: 2.302494\n",
      "Epoch 97, loss: 2.301579\n",
      "Epoch 98, loss: 2.302468\n",
      "Epoch 99, loss: 2.302352\n",
      "Accuracy after training for 100 epochs:  0.121\n"
     ]
    }
   ],
   "source": [
    "# Let's check how it performs on validation set\n",
    "pred = classifier.predict(val_X)\n",
    "accuracy = multiclass_accuracy(pred, val_y)\n",
    "print(\"Accuracy: \", accuracy)\n",
    "\n",
    "# Now, let's train more and see if it performs better\n",
    "classifier.fit(train_X, train_y, epochs=100, learning_rate=1e-3, batch_size=300, reg=1e1)\n",
    "pred = classifier.predict(val_X)\n",
    "accuracy = multiclass_accuracy(pred, val_y)\n",
    "print(\"Accuracy after training for 100 epochs: \", accuracy)"
   ]
  },
  {
   "cell_type": "code",
   "execution_count": 14,
   "metadata": {},
   "outputs": [
    {
     "data": {
      "text/plain": [
       "[<matplotlib.lines.Line2D at 0x7f7436faa828>]"
      ]
     },
     "execution_count": 14,
     "metadata": {},
     "output_type": "execute_result"
    },
    {
     "data": {
      "image/png": "[encoded data removed]",
      "text/plain": [
       "<Figure size 432x288 with 1 Axes>"
      ]
     },
     "metadata": {
      "needs_background": "light"
     },
     "output_type": "display_data"
    }
   ],
   "source": [
    "# let's look at the loss history!\n",
    "plt.plot(loss_history)"
   ]
  },
  {
   "cell_type": "markdown",
   "metadata": {},
   "source": [
    "### Как и раньше, используем кросс-валидацию для подбора гиперпараметров.\n",
    "\n",
    "В этот раз, чтобы тренировка занимала разумное время, мы будем использовать только одно разделение на тренировочные (training) и проверочные (validation) данные.\n",
    "\n",
    "Теперь нам нужно подобрать не один, а два гиперпараметра! Не ограничивайте себя изначальными значениями в коде.  \n",
    "Добейтесь точности более чем **20%** на проверочных данных (validation data)."
   ]
  },
  {
   "cell_type": "code",
   "execution_count": 22,
   "metadata": {
    "scrolled": true
   },
   "outputs": [
    {
     "name": "stdout",
     "output_type": "stream",
     "text": [
      "Epoch 58, loss: 2.302466\n",
      "Epoch 59, loss: 2.302941\n",
      "Epoch 60, loss: 2.302254\n",
      "Epoch 61, loss: 2.302974\n",
      "Epoch 62, loss: 2.303191\n",
      "Epoch 63, loss: 2.302392\n",
      "Epoch 64, loss: 2.302106\n",
      "Epoch 65, loss: 2.302464\n",
      "Epoch 66, loss: 2.302753\n",
      "Epoch 67, loss: 2.302177\n",
      "Epoch 68, loss: 2.302634\n",
      "Epoch 69, loss: 2.302571\n",
      "Epoch 70, loss: 2.303114\n",
      "Epoch 71, loss: 2.303036\n",
      "Epoch 72, loss: 2.302434\n",
      "Epoch 73, loss: 2.302265\n",
      "Epoch 74, loss: 2.302674\n",
      "Epoch 75, loss: 2.303332\n",
      "Epoch 76, loss: 2.302964\n",
      "Epoch 77, loss: 2.303355\n",
      "Epoch 78, loss: 2.302643\n",
      "Epoch 79, loss: 2.302769\n",
      "Epoch 80, loss: 2.303513\n",
      "Epoch 81, loss: 2.302623\n",
      "Epoch 82, loss: 2.301823\n",
      "Epoch 83, loss: 2.303222\n",
      "Epoch 84, loss: 2.303324\n",
      "Epoch 85, loss: 2.302615\n",
      "Epoch 86, loss: 2.302599\n",
      "Epoch 87, loss: 2.302000\n",
      "Epoch 88, loss: 2.302030\n",
      "Epoch 89, loss: 2.302574\n",
      "Epoch 90, loss: 2.302512\n",
      "Epoch 91, loss: 2.303561\n",
      "Epoch 92, loss: 2.302760\n",
      "Epoch 93, loss: 2.302622\n",
      "Epoch 94, loss: 2.302845\n",
      "Epoch 95, loss: 2.302594\n",
      "Epoch 96, loss: 2.302977\n",
      "Epoch 97, loss: 2.302259\n",
      "Epoch 98, loss: 2.303400\n",
      "Epoch 99, loss: 2.303070\n",
      "Epoch 0, loss: 2.302778\n",
      "Epoch 1, loss: 2.302567\n",
      "Epoch 2, loss: 2.301738\n",
      "Epoch 3, loss: 2.302274\n",
      "Epoch 4, loss: 2.302136\n",
      "Epoch 5, loss: 2.302330\n",
      "Epoch 6, loss: 2.300730\n",
      "Epoch 7, loss: 2.301891\n",
      "Epoch 8, loss: 2.302027\n",
      "Epoch 9, loss: 2.302395\n",
      "Epoch 10, loss: 2.301716\n",
      "Epoch 11, loss: 2.303330\n",
      "Epoch 12, loss: 2.302998\n",
      "Epoch 13, loss: 2.302066\n",
      "Epoch 14, loss: 2.300427\n",
      "Epoch 15, loss: 2.301901\n",
      "Epoch 16, loss: 2.303517\n",
      "Epoch 17, loss: 2.302376\n",
      "Epoch 18, loss: 2.301607\n",
      "Epoch 19, loss: 2.301202\n",
      "Epoch 20, loss: 2.303952\n",
      "Epoch 21, loss: 2.302855\n",
      "Epoch 22, loss: 2.302430\n",
      "Epoch 23, loss: 2.302948\n",
      "Epoch 24, loss: 2.303931\n",
      "Epoch 25, loss: 2.302615\n",
      "Epoch 26, loss: 2.302241\n",
      "Epoch 27, loss: 2.301442\n",
      "Epoch 28, loss: 2.302910\n",
      "Epoch 29, loss: 2.301857\n",
      "Epoch 30, loss: 2.302384\n",
      "Epoch 31, loss: 2.301496\n",
      "Epoch 32, loss: 2.301766\n",
      "Epoch 33, loss: 2.300995\n",
      "Epoch 34, loss: 2.302685\n",
      "Epoch 35, loss: 2.301627\n",
      "Epoch 36, loss: 2.301737\n",
      "Epoch 37, loss: 2.302777\n",
      "Epoch 38, loss: 2.302203\n",
      "Epoch 39, loss: 2.301694\n",
      "Epoch 40, loss: 2.301906\n",
      "Epoch 41, loss: 2.302434\n",
      "Epoch 42, loss: 2.302293\n",
      "Epoch 43, loss: 2.302091\n",
      "Epoch 44, loss: 2.301942\n",
      "Epoch 45, loss: 2.302370\n",
      "Epoch 46, loss: 2.302864\n",
      "Epoch 47, loss: 2.302381\n",
      "Epoch 48, loss: 2.302580\n",
      "Epoch 49, loss: 2.302153\n",
      "Epoch 50, loss: 2.302058\n",
      "Epoch 51, loss: 2.302635\n",
      "Epoch 52, loss: 2.302135\n",
      "Epoch 53, loss: 2.301968\n",
      "Epoch 54, loss: 2.301594\n",
      "Epoch 55, loss: 2.301857\n",
      "Epoch 56, loss: 2.302338\n",
      "Epoch 57, loss: 2.302133\n",
      "Epoch 58, loss: 2.302023\n",
      "Epoch 59, loss: 2.301853\n",
      "Epoch 60, loss: 2.301442\n",
      "Epoch 61, loss: 2.303190\n",
      "Epoch 62, loss: 2.302539\n",
      "Epoch 63, loss: 2.301310\n",
      "Epoch 64, loss: 2.301804\n",
      "Epoch 65, loss: 2.302320\n",
      "Epoch 66, loss: 2.301963\n",
      "Epoch 67, loss: 2.302154\n",
      "Epoch 68, loss: 2.302027\n",
      "Epoch 69, loss: 2.303497\n",
      "Epoch 70, loss: 2.302764\n",
      "Epoch 71, loss: 2.302355\n",
      "Epoch 72, loss: 2.301934\n",
      "Epoch 73, loss: 2.302734\n",
      "Epoch 74, loss: 2.302767\n",
      "Epoch 75, loss: 2.302018\n",
      "Epoch 76, loss: 2.302182\n",
      "Epoch 77, loss: 2.302595\n",
      "Epoch 78, loss: 2.301790\n",
      "Epoch 79, loss: 2.301846\n",
      "Epoch 80, loss: 2.303113\n",
      "Epoch 81, loss: 2.302901\n",
      "Epoch 82, loss: 2.300766\n",
      "Epoch 83, loss: 2.301096\n",
      "Epoch 84, loss: 2.301787\n",
      "Epoch 85, loss: 2.302531\n",
      "Epoch 86, loss: 2.301120\n",
      "Epoch 87, loss: 2.302777\n",
      "Epoch 88, loss: 2.302384\n",
      "Epoch 89, loss: 2.302348\n",
      "Epoch 90, loss: 2.302230\n",
      "Epoch 91, loss: 2.303211\n",
      "Epoch 92, loss: 2.303221\n",
      "Epoch 93, loss: 2.302174\n",
      "Epoch 94, loss: 2.302185\n",
      "Epoch 95, loss: 2.301135\n",
      "Epoch 96, loss: 2.301080\n",
      "Epoch 97, loss: 2.302246\n",
      "Epoch 98, loss: 2.301719\n",
      "Epoch 99, loss: 2.301408\n",
      "Epoch 0, loss: 2.303221\n",
      "Epoch 1, loss: 2.303250\n",
      "Epoch 2, loss: 2.303056\n",
      "Epoch 3, loss: 2.302810\n",
      "Epoch 4, loss: 2.302969\n",
      "Epoch 5, loss: 2.303294\n",
      "Epoch 6, loss: 2.302546\n",
      "Epoch 7, loss: 2.302497\n",
      "Epoch 8, loss: 2.302983\n",
      "Epoch 9, loss: 2.302921\n",
      "Epoch 10, loss: 2.302680\n",
      "Epoch 11, loss: 2.302258\n",
      "Epoch 12, loss: 2.303154\n",
      "Epoch 13, loss: 2.301747\n",
      "Epoch 14, loss: 2.302211\n",
      "Epoch 15, loss: 2.302167\n",
      "Epoch 16, loss: 2.302401\n",
      "Epoch 17, loss: 2.302878\n",
      "Epoch 18, loss: 2.302677\n",
      "Epoch 19, loss: 2.302663\n",
      "Epoch 20, loss: 2.302538\n",
      "Epoch 21, loss: 2.302093\n",
      "Epoch 22, loss: 2.303044\n",
      "Epoch 23, loss: 2.303652\n",
      "Epoch 24, loss: 2.302160\n",
      "Epoch 25, loss: 2.302706\n",
      "Epoch 26, loss: 2.302761\n",
      "Epoch 27, loss: 2.303722\n",
      "Epoch 28, loss: 2.302308\n",
      "Epoch 29, loss: 2.302656\n",
      "Epoch 30, loss: 2.302492\n",
      "Epoch 31, loss: 2.302874\n",
      "Epoch 32, loss: 2.302853\n",
      "Epoch 33, loss: 2.302113\n",
      "Epoch 34, loss: 2.301608\n",
      "Epoch 35, loss: 2.302850\n",
      "Epoch 36, loss: 2.302584\n",
      "Epoch 37, loss: 2.302416\n",
      "Epoch 38, loss: 2.301839\n",
      "Epoch 39, loss: 2.303385\n",
      "Epoch 40, loss: 2.302959\n",
      "Epoch 41, loss: 2.303573\n",
      "Epoch 42, loss: 2.302381\n",
      "Epoch 43, loss: 2.301948\n",
      "Epoch 44, loss: 2.302406\n",
      "Epoch 45, loss: 2.302619\n",
      "Epoch 46, loss: 2.302417\n",
      "Epoch 47, loss: 2.303249\n",
      "Epoch 48, loss: 2.302588\n",
      "Epoch 49, loss: 2.303264\n",
      "Epoch 50, loss: 2.302335\n",
      "Epoch 51, loss: 2.302878\n",
      "Epoch 52, loss: 2.302365\n",
      "Epoch 53, loss: 2.301785\n",
      "Epoch 54, loss: 2.301895\n",
      "Epoch 55, loss: 2.301906\n",
      "Epoch 56, loss: 2.302059\n",
      "Epoch 57, loss: 2.301347\n",
      "Epoch 58, loss: 2.303241\n",
      "Epoch 59, loss: 2.302603\n",
      "Epoch 60, loss: 2.301800\n",
      "Epoch 61, loss: 2.302766\n",
      "Epoch 62, loss: 2.301640\n",
      "Epoch 63, loss: 2.301960\n",
      "Epoch 64, loss: 2.302910\n",
      "Epoch 65, loss: 2.302855\n",
      "Epoch 66, loss: 2.302472\n",
      "Epoch 67, loss: 2.301773\n",
      "Epoch 68, loss: 2.302641\n",
      "Epoch 69, loss: 2.302180\n",
      "Epoch 70, loss: 2.302948\n",
      "Epoch 71, loss: 2.302808\n",
      "Epoch 72, loss: 2.303028\n",
      "Epoch 73, loss: 2.302347\n",
      "Epoch 74, loss: 2.301978\n",
      "Epoch 75, loss: 2.301741\n",
      "Epoch 76, loss: 2.302797\n",
      "Epoch 77, loss: 2.302108\n",
      "Epoch 78, loss: 2.302435\n",
      "Epoch 79, loss: 2.301768\n",
      "Epoch 80, loss: 2.302613\n",
      "Epoch 81, loss: 2.301907\n",
      "Epoch 82, loss: 2.301933\n",
      "Epoch 83, loss: 2.302206\n",
      "Epoch 84, loss: 2.302610\n",
      "Epoch 85, loss: 2.302888\n",
      "Epoch 86, loss: 2.302902\n",
      "Epoch 87, loss: 2.302224\n",
      "Epoch 88, loss: 2.302473\n",
      "Epoch 89, loss: 2.302841\n",
      "Epoch 90, loss: 2.302722\n",
      "Epoch 91, loss: 2.302941\n",
      "Epoch 92, loss: 2.303009\n",
      "Epoch 93, loss: 2.303005\n",
      "Epoch 94, loss: 2.302985\n",
      "Epoch 95, loss: 2.302965\n",
      "Epoch 96, loss: 2.303596\n",
      "Epoch 97, loss: 2.303087\n",
      "Epoch 98, loss: 2.301860\n"
     ]
    },
    {
     "name": "stderr",
     "output_type": "stream",
     "text": [
      "100%|██████████| 7/7 [34:25<00:00, 295.09s/it]"
     ]
    },
    {
     "name": "stdout",
     "output_type": "stream",
     "text": [
      "Epoch 99, loss: 2.302073\n",
      "best validation accuracy achieved: 0.251000\n"
     ]
    },
    {
     "name": "stderr",
     "output_type": "stream",
     "text": [
      "\n"
     ]
    }
   ],
   "source": [
    "from tqdm import tqdm\n",
    "num_epochs = 100\n",
    "batch_size = 300\n",
    "\n",
    "learning_rates = [1e-1, 1e-2, 1e-3, 1e-4, 1e-5, 1e-6, 1e-7]\n",
    "reg_strengths = [1e-1, 1e-2, 1e-3, 1e-4, 1e-5, 1e-6, 1e-7]\n",
    "\n",
    "best_classifier = None\n",
    "best_val_accuracy = 0\n",
    "\n",
    "# TODO use validation set to find the best hyperparameters\n",
    "# hint: for best results, you might need to try more values for learning rate and regularization strength \n",
    "# than provided initially\n",
    "for learning_rate in tqdm(learning_rates):\n",
    "    for reg_strength in reg_strengths:\n",
    "        classifier = linear_classifer.LinearSoftmaxClassifier()\n",
    "        classifier.fit(train_X, train_y, learning_rate=learning_rate, reg=reg_strength, batch_size=batch_size, epochs=num_epochs)\n",
    "        val_score = multiclass_accuracy(classifier.predict(val_X), ground_truth=val_y)\n",
    "        if val_score > best_val_accuracy:\n",
    "            best_val_accuracy = val_score\n",
    "            best_classifier = classifier\n",
    "\n",
    "print('best validation accuracy achieved: %f' % best_val_accuracy)"
   ]
  },
  {
   "cell_type": "markdown",
   "metadata": {},
   "source": [
    "# Какой же точности мы добились на тестовых данных?"
   ]
  },
  {
   "cell_type": "code",
   "execution_count": 23,
   "metadata": {},
   "outputs": [
    {
     "name": "stdout",
     "output_type": "stream",
     "text": [
      "Linear softmax classifier test set accuracy: 0.213000\n"
     ]
    }
   ],
   "source": [
    "test_pred = best_classifier.predict(test_X)\n",
    "test_accuracy = multiclass_accuracy(test_pred, test_y)\n",
    "print('Linear softmax classifier test set accuracy: %f' % (test_accuracy, ))"
   ]
  },
  {
   "cell_type": "code",
   "execution_count": null,
   "metadata": {},
   "outputs": [],
   "source": []
  }
 ],
 "metadata": {
  "kernelspec": {
   "display_name": "Python 3",
   "language": "python",
   "name": "python3"
  },
  "language_info": {
   "codemirror_mode": {
    "name": "ipython",
    "version": 3
   },
   "file_extension": ".py",
   "mimetype": "text/x-python",
   "name": "python",
   "nbconvert_exporter": "python",
   "pygments_lexer": "ipython3",
   "version": "3.6.8"
  }
 },
 "nbformat": 4,
 "nbformat_minor": 4
}
